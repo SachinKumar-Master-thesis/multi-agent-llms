{
 "cells": [
  {
   "cell_type": "code",
   "execution_count": null,
   "metadata": {},
   "outputs": [],
   "source": [
    "%load_ext autoreload\n",
    "%autoreload 2"
   ]
  },
  {
   "cell_type": "code",
   "execution_count": null,
   "metadata": {},
   "outputs": [],
   "source": [
    "#| default_exp utils/agent_prompts"
   ]
  },
  {
   "cell_type": "code",
   "execution_count": null,
   "metadata": {},
   "outputs": [],
   "source": [
    "#| export\n",
    "from __future__ import annotations\n",
    "from pydantic import BaseModel, Field\n",
    "\n",
    "from typing import List, Dict, Optional"
   ]
  },
  {
   "cell_type": "code",
   "execution_count": null,
   "metadata": {},
   "outputs": [],
   "source": [
    "#| export\n",
    "schema_selector = (\n",
    "    \"You are a opensearch schema selector agent. You will have the following responsibilities.\\n\"\n",
    "    \"Select all the events which are necessary to answer user query\\\\n\"\n",
    "    \"You will be provided with the below information.\\\\n\"\n",
    "    \"Event information is provided in a nested dictionary. \"\n",
    "    \"The first level in the schema dict represent event names.\"\n",
    "    \"Second level is a dictionary with the key representing column names in a dataframe and the values column description.\\\\n\"\n",
    "    \"Data schema key in the output should contain only the information of the selected indexes or events. the first level should always be the event name not the column names\\\\n\"\n",
    "    \"If you are unable to select the events, return all the events.\"\n",
    "    \"User query is provided in the query key and the schema information in the schema key.\"\n",
    "\n",
    "    \"**Context**\\\\n\"\n",
    "    \"schema:{schema_str}\\\\n\"\n",
    "    \"query:{query_str}\\\\n\"\n",
    ")"
   ]
  },
  {
   "cell_type": "code",
   "execution_count": null,
   "metadata": {},
   "outputs": [],
   "source": [
    "#| export\n",
    "query_generator = (\n",
    "    \"You are an opensearch agent, you have the below mentioned responsibilities.\\\\n\"\n",
    "    \"You are responsible to generate an opensearch query which can answer user question.\\\\n \"\n",
    "    \"The generated opensearch query will be utilized downstream  to fetch the data from opensearch index using opensearchpy client.\\\\n\"\n",
    "    \"You will be provided with a a context object, which will contain a list of indexes or events which you can utilize to answer user query.\\\\n\"\n",
    "    \"Before creating the opensearch query, list the necessary steps required to resolve user query in cot key. use the cot to construct the opensearch query.\\\\n\"\n",
    "    \"Utilize the information provided in the context to create opensearch query. The context as defined in {input_str}. The first level in the nested data struture will always represent the opensearch index name\\\\n\"\n",
    "    \"If you are able to answer a user query directly from the user context, dont create any query and update the query with empty string and put the resolution in context_solution variable\"\n",
    "    \"if the user query doesnot mention any event or columns or column description information, select all the indexes by default.\\\\n\"\n",
    "    \"if the user mentions a column or some description about a column, than select all the index where this informaiton is present.\\\\n\"\n",
    "    \"Always timelimit the created query to the last 6 weeks if the time information is not explicitly provided in the user query.\\\\n\"\n",
    "    \"Use the default size in the query as 10000\\\\n\"\n",
    "    \"If the opensearch query filters require transformed information from a variable, use the script functionality to achieve the goal.\\\\n \"\n",
    "    \"If resampling is carried out in the return query. remove the time-instances where data doesnot exist and dont return these records\\\\n\"\n",
    "    \"minimum doc count should be atleast 1. Use 0 only when the query requires, e.g. when some asks about missing data or missing information.\\\\n\"\n",
    "    \"when you are asked a question about missing data , return the buckets with only 0 doc count\"\n",
    "    \"use lat and lons as proxy for location\"\n",
    "    \"query: {query_str}\\\\n\"\n",
    "    \"schema: {schema_str}\\\\n\"  \n",
    ")"
   ]
  },
  {
   "cell_type": "code",
   "execution_count": null,
   "metadata": {},
   "outputs": [],
   "source": [
    "#| export\n",
    "query_corrector = (\n",
    "    \"You are an opensearch query correcting agent, you have the below mentioned responsibilities.\\\\n\"\n",
    "    \"You are responsible to correct an erroneous opensearch query provided in es_query key.\\\\n \"\n",
    "    \"Before creating the opensearch query, list the necessary steps required to reolve user query in cot key. use the cot to construct the opensearch query\\\\n\"\n",
    "    \n",
    "    \"You are provided with the below information\"\n",
    "    \"User query in plain language is provided in the key user_key\"\n",
    "    \"You will be provided with a a context object, which will contain a list of indexes.\\\\n\"\n",
    "    \"Utilize the information provided in the context to create opensearch query. The context will the input str as defined in {input_str}. The first level in the nested data struture will always represent the opensearch index name\"\n",
    "    \"If the opensearch query filters require transformed information from a variable, use the script functionality to achieve the goal.\\\\n \"\n",
    "    \"Existing es query is provided in the key es_query.\\\\n\"\n",
    "    \"List of all the errors encountered untill now are provided in the key errors. Ensure to resolve them and they are not encountered again.\"\n",
    "   \n",
    "    '##Context#'\n",
    "    \"user_query: {query_str}\\\\n\"\n",
    "    \"es_query: {es_query}\\\\n\"\n",
    "    \"errors: {error_list}\\\\n\" \n",
    "    \"schema: {schema_str}\\\\n\"  \n",
    ")"
   ]
  },
  {
   "cell_type": "code",
   "execution_count": null,
   "metadata": {},
   "outputs": [],
   "source": [
    "#| export\n",
    "query_validator = (\n",
    "    \"You are a query validator agent agent who has the following tasks. \"\n",
    "     \"Taking the user query and es_query into account, come to a conclusion whether the es_query satisfies the user request or not. if not provide he reasons.\"\n",
    "    \"User query in plain language is provided in the key user_query\"\n",
    "    \"You will be provided with a context object, which will contain a list of indexes \\\\n\"\n",
    "    \"The es query is provided in the key ws_query.\\\\n\"\n",
    "   \n",
    "    '## context ##'\n",
    "    \"user_query: {query_str}\\\\n\"\n",
    "    \"es_query: {es_query}\\\\n\" \n",
    "    \"schema: {schema_str}\\\\n\"  \n",
    ")"
   ]
  },
  {
   "cell_type": "code",
   "execution_count": null,
   "metadata": {},
   "outputs": [],
   "source": [
    "#| export\n",
    "response_synthesizer = (\n",
    "    \"You are a response synthesizer agent who has the following tasks. \"\n",
    "    \"Always reply in plain language.\\\\n\"\n",
    "    \"User query in plain language is provided in the key user_query\"\n",
    "    \"You will be provided with a context object, which will contain a list of indexes \\\\n\"\n",
    "    \"The results from opensearch query are provided in the key results.\\\\n\"\n",
    "    \"Taking the user query and result into account, derive insights expaning the results. Dont just state the results.\\\\n\"\n",
    "    \"If there are multiple insights provide them in a sequential manner winbdevth bullet points.\\\\n\"\n",
    "    \"if possible present the results in a tabular format.\\\\n\"\n",
    "    \"If the user query explicitly asks for a plot. Return a json string of the plot which can be loaded by plotly.io.\\\\n\"\n",
    "\n",
    "    '##context##'\n",
    "    \"user_query: {query_str}\\\\n\"\n",
    "    \"results: {results}\\\\n\" \n",
    "    \"schema: {schema_str}\\\\n\"  \n",
    ")\n"
   ]
  },
  {
   "cell_type": "code",
   "execution_count": null,
   "metadata": {},
   "outputs": [],
   "source": []
  },
  {
   "cell_type": "code",
   "execution_count": null,
   "metadata": {},
   "outputs": [],
   "source": [
    "#| export\n",
    "class VariableDefinition(BaseModel):\n",
    "    \"\"\"\n",
    "    Schema definitions as a nested dict with recursion.\n",
    "    The first level is the index name and the second and sucessive levels will be the column name and their description\n",
    "    \"\"\"\n",
    "    variable_name:str = Field(description='Name of the index, variable or column in es')\n",
    "    description:str=Field(description='Plain language description of the variable and its role')\n",
    "    data_type:str|object=Field(description='Data type of the variable')\n",
    "    schema:Optional[List[VariableDefinition]] = Field(default=[],description='if the variable is not nested else  add the variable definition of the next level in the data.')\n"
   ]
  },
  {
   "cell_type": "code",
   "execution_count": null,
   "metadata": {},
   "outputs": [],
   "source": [
    "#| export\n",
    "class QueryDetails(BaseModel):\n",
    "    \"\"\"\n",
    "    List of all the selected indexes from the schema selector\n",
    "    \"\"\"\n",
    "    indexes:List[VariableDefinition]|str=Field(description='List of all the selected indexes or events to answer user query and their nested fields information')\n",
    "    "
   ]
  },
  {
   "cell_type": "code",
   "execution_count": null,
   "metadata": {},
   "outputs": [],
   "source": [
    "#| export\n",
    "class OpensearchQuery(BaseModel):\n",
    "    \"\"\"\n",
    "    Class to hold information regarding the query\n",
    "    \"\"\"\n",
    "    user_query:str=Field(description='User query')\n",
    "    query:str|dict=Field(description='Opensearch query as json string or python dictionary')\n",
    "    start_date:str=Field(descriptions='Start timestamp in the query')\n",
    "    end_date:str=Field( descriptions='End timestamp in the query')\n",
    "    group_columns:list=Field(default=[], description=\"list all the bucket names in the aggs part of the opensearch query. Use the names as defined in the query donot use the column names\")\n",
    "    cot:list|str=Field(descriptions='chain of thoughts to arrive at the answer for the user query . List the steps in their right sequences in a dictionary')\n",
    "    context_solution:str=Field(default='', description=\"Response when the user query can be answered directly from the context information and dont need an opensearch query\")"
   ]
  },
  {
   "cell_type": "code",
   "execution_count": null,
   "metadata": {},
   "outputs": [],
   "source": [
    "#| export\n",
    "class QueryValidator(BaseModel):\n",
    "    \"\"\"\n",
    "    Information from the query validation agent\n",
    "    This houses information whether the user query has been answered or not and the resason for not answering the query.\n",
    "    \"\"\"\n",
    "    user_query:str=Field(descriptions='User query')\n",
    "    query_score:float=Field(descriptions='score between 0 and 1 which captures how much of the user query is aswered by the elasti query. 1 being all the points are addresed, 0 nothing')\n",
    "    reason:str=Field(default='', descriptions=\"reasons for query rejection\")"
   ]
  },
  {
   "cell_type": "code",
   "execution_count": null,
   "metadata": {},
   "outputs": [],
   "source": [
    "#| export\n",
    "class ResponseSynthesizer(BaseModel):\n",
    "    user_query:str=Field(descriptions='User query')\n",
    "    response:str=Field(descriptions='Response text from the agent')\n",
    "    plots:str=Field(default='', descriptions=\"list of plotly plot-able strings. Populate only if the user asks for it\")"
   ]
  },
  {
   "cell_type": "code",
   "execution_count": null,
   "metadata": {},
   "outputs": [],
   "source": [
    "#| export\n",
    "\n",
    "class AgentPromtInformation(BaseModel):\n",
    "    agent_name:str = Field(description='Agent Name')\n",
    "    agent_role:str = Field(description='Agent description')\n",
    "    agent_prompt:str = Field(description='Base prompt for the agent')\n",
    "    output_class: object = Field(description=\"Class utilized for strututed llm\", default=None)\n",
    "    agent:object = Field(description='L LM use to make prediction', default=None)\n"
   ]
  },
  {
   "cell_type": "code",
   "execution_count": null,
   "metadata": {},
   "outputs": [],
   "source": [
    "#| export\n",
    "agent_dict = dict()\n",
    "\n",
    "agent_dict['schema_selector'] = AgentPromtInformation(agent=None,\n",
    "                                                        agent_name='schema_selector',\n",
    "                                                        agent_role=\"Select schemas from the provided dict to answer user query\",\n",
    "                                                        output_class=QueryDetails,\n",
    "                                                        agent_prompt=schema_selector\n",
    "                                                        )\n",
    "\n",
    "agent_dict['query_generator'] = AgentPromtInformation(agent=None,\n",
    "                                                        agent_name='query_generator',\n",
    "                                                        agent_role=\"Select schemas from the provided dict to answer user query\",\n",
    "                                                        output_class=OpensearchQuery,\n",
    "                                                        agent_prompt=query_generator\n",
    "                                                        )\n",
    "\n",
    "agent_dict['response_synthesizer'] = AgentPromtInformation(agent=None,\n",
    "                                                        agent_name='response_synthesizer',\n",
    "                                                        agent_role=\"Synthesize response from output\",\n",
    "                                                        output_class=ResponseSynthesizer,\n",
    "                                                        agent_prompt=response_synthesizer\n",
    "                                                        )\n",
    "\n",
    "agent_dict['query_corrector'] = AgentPromtInformation(agent=None,\n",
    "                                                        agent_name='query_corrector',\n",
    "                                                        agent_role=\"Correct erroneous es query\",\n",
    "                                                        output_class=OpensearchQuery,\n",
    "                                                        agent_prompt=query_corrector\n",
    "                                                        )\n",
    "\n",
    "agent_dict['query_validator'] = AgentPromtInformation(agent=None,\n",
    "                                                        agent_name='query_validator',\n",
    "                                                        agent_role=\"validate user request and es query\",\n",
    "                                                        output_class=QueryValidator,\n",
    "                                                        agent_prompt=query_validator\n",
    "                                                        )"
   ]
  },
  {
   "cell_type": "code",
   "execution_count": null,
   "metadata": {},
   "outputs": [],
   "source": []
  }
 ],
 "metadata": {
  "kernelspec": {
   "display_name": "python3",
   "language": "python",
   "name": "python3"
  }
 },
 "nbformat": 4,
 "nbformat_minor": 2
}
